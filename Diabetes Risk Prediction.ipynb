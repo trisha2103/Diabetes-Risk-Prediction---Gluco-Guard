{
 "cells": [
  {
   "cell_type": "code",
   "execution_count": 35,
   "id": "e421c92a-1190-4387-8df6-a9937d318a42",
   "metadata": {},
   "outputs": [
    {
     "name": "stdout",
     "output_type": "stream",
     "text": [
      "True /Users/trisharaj/Downloads/Diabetes risk prediction/diabetes_binary_health_indicators_BRFSS2015.csv\n"
     ]
    },
    {
     "data": {
      "text/html": [
       "<div>\n",
       "<style scoped>\n",
       "    .dataframe tbody tr th:only-of-type {\n",
       "        vertical-align: middle;\n",
       "    }\n",
       "\n",
       "    .dataframe tbody tr th {\n",
       "        vertical-align: top;\n",
       "    }\n",
       "\n",
       "    .dataframe thead th {\n",
       "        text-align: right;\n",
       "    }\n",
       "</style>\n",
       "<table border=\"1\" class=\"dataframe\">\n",
       "  <thead>\n",
       "    <tr style=\"text-align: right;\">\n",
       "      <th></th>\n",
       "      <th>Diabetes_binary</th>\n",
       "      <th>HighBP</th>\n",
       "      <th>HighChol</th>\n",
       "      <th>CholCheck</th>\n",
       "      <th>BMI</th>\n",
       "      <th>Smoker</th>\n",
       "      <th>Stroke</th>\n",
       "      <th>HeartDiseaseorAttack</th>\n",
       "      <th>PhysActivity</th>\n",
       "      <th>Fruits</th>\n",
       "      <th>...</th>\n",
       "      <th>AnyHealthcare</th>\n",
       "      <th>NoDocbcCost</th>\n",
       "      <th>GenHlth</th>\n",
       "      <th>MentHlth</th>\n",
       "      <th>PhysHlth</th>\n",
       "      <th>DiffWalk</th>\n",
       "      <th>Sex</th>\n",
       "      <th>Age</th>\n",
       "      <th>Education</th>\n",
       "      <th>Income</th>\n",
       "    </tr>\n",
       "  </thead>\n",
       "  <tbody>\n",
       "    <tr>\n",
       "      <th>0</th>\n",
       "      <td>0.0</td>\n",
       "      <td>1.0</td>\n",
       "      <td>1.0</td>\n",
       "      <td>1.0</td>\n",
       "      <td>40.0</td>\n",
       "      <td>1.0</td>\n",
       "      <td>0.0</td>\n",
       "      <td>0.0</td>\n",
       "      <td>0.0</td>\n",
       "      <td>0.0</td>\n",
       "      <td>...</td>\n",
       "      <td>1.0</td>\n",
       "      <td>0.0</td>\n",
       "      <td>5.0</td>\n",
       "      <td>18.0</td>\n",
       "      <td>15.0</td>\n",
       "      <td>1.0</td>\n",
       "      <td>0.0</td>\n",
       "      <td>9.0</td>\n",
       "      <td>4.0</td>\n",
       "      <td>3.0</td>\n",
       "    </tr>\n",
       "    <tr>\n",
       "      <th>1</th>\n",
       "      <td>0.0</td>\n",
       "      <td>0.0</td>\n",
       "      <td>0.0</td>\n",
       "      <td>0.0</td>\n",
       "      <td>25.0</td>\n",
       "      <td>1.0</td>\n",
       "      <td>0.0</td>\n",
       "      <td>0.0</td>\n",
       "      <td>1.0</td>\n",
       "      <td>0.0</td>\n",
       "      <td>...</td>\n",
       "      <td>0.0</td>\n",
       "      <td>1.0</td>\n",
       "      <td>3.0</td>\n",
       "      <td>0.0</td>\n",
       "      <td>0.0</td>\n",
       "      <td>0.0</td>\n",
       "      <td>0.0</td>\n",
       "      <td>7.0</td>\n",
       "      <td>6.0</td>\n",
       "      <td>1.0</td>\n",
       "    </tr>\n",
       "    <tr>\n",
       "      <th>2</th>\n",
       "      <td>0.0</td>\n",
       "      <td>1.0</td>\n",
       "      <td>1.0</td>\n",
       "      <td>1.0</td>\n",
       "      <td>28.0</td>\n",
       "      <td>0.0</td>\n",
       "      <td>0.0</td>\n",
       "      <td>0.0</td>\n",
       "      <td>0.0</td>\n",
       "      <td>1.0</td>\n",
       "      <td>...</td>\n",
       "      <td>1.0</td>\n",
       "      <td>1.0</td>\n",
       "      <td>5.0</td>\n",
       "      <td>30.0</td>\n",
       "      <td>30.0</td>\n",
       "      <td>1.0</td>\n",
       "      <td>0.0</td>\n",
       "      <td>9.0</td>\n",
       "      <td>4.0</td>\n",
       "      <td>8.0</td>\n",
       "    </tr>\n",
       "    <tr>\n",
       "      <th>3</th>\n",
       "      <td>0.0</td>\n",
       "      <td>1.0</td>\n",
       "      <td>0.0</td>\n",
       "      <td>1.0</td>\n",
       "      <td>27.0</td>\n",
       "      <td>0.0</td>\n",
       "      <td>0.0</td>\n",
       "      <td>0.0</td>\n",
       "      <td>1.0</td>\n",
       "      <td>1.0</td>\n",
       "      <td>...</td>\n",
       "      <td>1.0</td>\n",
       "      <td>0.0</td>\n",
       "      <td>2.0</td>\n",
       "      <td>0.0</td>\n",
       "      <td>0.0</td>\n",
       "      <td>0.0</td>\n",
       "      <td>0.0</td>\n",
       "      <td>11.0</td>\n",
       "      <td>3.0</td>\n",
       "      <td>6.0</td>\n",
       "    </tr>\n",
       "    <tr>\n",
       "      <th>4</th>\n",
       "      <td>0.0</td>\n",
       "      <td>1.0</td>\n",
       "      <td>1.0</td>\n",
       "      <td>1.0</td>\n",
       "      <td>24.0</td>\n",
       "      <td>0.0</td>\n",
       "      <td>0.0</td>\n",
       "      <td>0.0</td>\n",
       "      <td>1.0</td>\n",
       "      <td>1.0</td>\n",
       "      <td>...</td>\n",
       "      <td>1.0</td>\n",
       "      <td>0.0</td>\n",
       "      <td>2.0</td>\n",
       "      <td>3.0</td>\n",
       "      <td>0.0</td>\n",
       "      <td>0.0</td>\n",
       "      <td>0.0</td>\n",
       "      <td>11.0</td>\n",
       "      <td>5.0</td>\n",
       "      <td>4.0</td>\n",
       "    </tr>\n",
       "  </tbody>\n",
       "</table>\n",
       "<p>5 rows × 22 columns</p>\n",
       "</div>"
      ],
      "text/plain": [
       "   Diabetes_binary  HighBP  HighChol  CholCheck   BMI  Smoker  Stroke  \\\n",
       "0              0.0     1.0       1.0        1.0  40.0     1.0     0.0   \n",
       "1              0.0     0.0       0.0        0.0  25.0     1.0     0.0   \n",
       "2              0.0     1.0       1.0        1.0  28.0     0.0     0.0   \n",
       "3              0.0     1.0       0.0        1.0  27.0     0.0     0.0   \n",
       "4              0.0     1.0       1.0        1.0  24.0     0.0     0.0   \n",
       "\n",
       "   HeartDiseaseorAttack  PhysActivity  Fruits  ...  AnyHealthcare  \\\n",
       "0                   0.0           0.0     0.0  ...            1.0   \n",
       "1                   0.0           1.0     0.0  ...            0.0   \n",
       "2                   0.0           0.0     1.0  ...            1.0   \n",
       "3                   0.0           1.0     1.0  ...            1.0   \n",
       "4                   0.0           1.0     1.0  ...            1.0   \n",
       "\n",
       "   NoDocbcCost  GenHlth  MentHlth  PhysHlth  DiffWalk  Sex   Age  Education  \\\n",
       "0          0.0      5.0      18.0      15.0       1.0  0.0   9.0        4.0   \n",
       "1          1.0      3.0       0.0       0.0       0.0  0.0   7.0        6.0   \n",
       "2          1.0      5.0      30.0      30.0       1.0  0.0   9.0        4.0   \n",
       "3          0.0      2.0       0.0       0.0       0.0  0.0  11.0        3.0   \n",
       "4          0.0      2.0       3.0       0.0       0.0  0.0  11.0        5.0   \n",
       "\n",
       "   Income  \n",
       "0     3.0  \n",
       "1     1.0  \n",
       "2     8.0  \n",
       "3     6.0  \n",
       "4     4.0  \n",
       "\n",
       "[5 rows x 22 columns]"
      ]
     },
     "execution_count": 35,
     "metadata": {},
     "output_type": "execute_result"
    }
   ],
   "source": [
    "from pathlib import Path\n",
    "import pandas as pd\n",
    "\n",
    "DATA_DIR = Path.home() / \"Downloads\" / \"Diabetes risk prediction\"\n",
    "DATA_FILE = DATA_DIR / \"diabetes_binary_health_indicators_BRFSS2015.csv\"  # adjust name if needed\n",
    "\n",
    "print(DATA_FILE.exists(), DATA_FILE)\n",
    "df = pd.read_csv(DATA_FILE)  # only if the line above printed True\n",
    "df.head()\n"
   ]
  },
  {
   "cell_type": "code",
   "execution_count": 36,
   "id": "3027e508-3ff4-4e6a-8106-89b2a9d9f62b",
   "metadata": {},
   "outputs": [
    {
     "name": "stdout",
     "output_type": "stream",
     "text": [
      "Rows: 253680 | Pos rate: 0.1393\n"
     ]
    }
   ],
   "source": [
    "import pandas as pd, numpy as np\n",
    "\n",
    "# if df isn't in memory anymore, reload it:\n",
    "# df = pd.read_csv(\"diabetes_binary_health_indicators_BRFSS2015.csv\")\n",
    "\n",
    "FEATURES = [\"HighBP\",\"HighChol\",\"CholCheck\",\"BMI\",\"Smoker\",\"Stroke\",\n",
    "            \"HeartDiseaseorAttack\",\"PhysActivity\",\"Fruits\",\"Veggies\",\n",
    "            \"HvyAlcoholConsump\",\"AnyHealthcare\",\"NoDocbcCost\",\"GenHlth\",\n",
    "            \"MentHlth\",\"PhysHlth\",\"DiffWalk\",\"Sex\",\"Age\",\"Education\",\"Income\"]\n",
    "\n",
    "# target: use Diabetes_binary if present; otherwise convert Diabetes_012→binary\n",
    "if \"Diabetes_binary\" in df.columns:\n",
    "    y = df[\"Diabetes_binary\"].astype(int)\n",
    "elif \"Diabetes_012\" in df.columns:\n",
    "    INCLUDE_PREDIABETES = False  # set True to count prediabetes (1) as positive\n",
    "    y = (df[\"Diabetes_012\"] >= 1).astype(int) if INCLUDE_PREDIABETES else (df[\"Diabetes_012\"] == 2).astype(int)\n",
    "else:\n",
    "    raise ValueError(\"Missing Diabetes_binary / Diabetes_012\")\n",
    "\n",
    "X = df[FEATURES].apply(pd.to_numeric, errors=\"coerce\")\n",
    "mask = X.notna().all(axis=1) & y.notna()\n",
    "X, y = X[mask], y[mask].astype(int)\n",
    "\n",
    "print(\"Rows:\", len(X), \"| Pos rate:\", y.mean().round(4))\n"
   ]
  },
  {
   "cell_type": "code",
   "execution_count": 37,
   "id": "bb69467d-2146-4718-9cac-27b141fb93bb",
   "metadata": {},
   "outputs": [
    {
     "data": {
      "text/html": [
       "<div>\n",
       "<style scoped>\n",
       "    .dataframe tbody tr th:only-of-type {\n",
       "        vertical-align: middle;\n",
       "    }\n",
       "\n",
       "    .dataframe tbody tr th {\n",
       "        vertical-align: top;\n",
       "    }\n",
       "\n",
       "    .dataframe thead th {\n",
       "        text-align: right;\n",
       "    }\n",
       "</style>\n",
       "<table border=\"1\" class=\"dataframe\">\n",
       "  <thead>\n",
       "    <tr style=\"text-align: right;\">\n",
       "      <th></th>\n",
       "      <th>count</th>\n",
       "      <th>mean</th>\n",
       "      <th>std</th>\n",
       "      <th>min</th>\n",
       "      <th>25%</th>\n",
       "      <th>50%</th>\n",
       "      <th>75%</th>\n",
       "      <th>max</th>\n",
       "    </tr>\n",
       "  </thead>\n",
       "  <tbody>\n",
       "    <tr>\n",
       "      <th>HighBP</th>\n",
       "      <td>253680.0</td>\n",
       "      <td>0.429001</td>\n",
       "      <td>0.494934</td>\n",
       "      <td>0.0</td>\n",
       "      <td>0.0</td>\n",
       "      <td>0.0</td>\n",
       "      <td>1.0</td>\n",
       "      <td>1.0</td>\n",
       "    </tr>\n",
       "    <tr>\n",
       "      <th>HighChol</th>\n",
       "      <td>253680.0</td>\n",
       "      <td>0.424121</td>\n",
       "      <td>0.494210</td>\n",
       "      <td>0.0</td>\n",
       "      <td>0.0</td>\n",
       "      <td>0.0</td>\n",
       "      <td>1.0</td>\n",
       "      <td>1.0</td>\n",
       "    </tr>\n",
       "    <tr>\n",
       "      <th>CholCheck</th>\n",
       "      <td>253680.0</td>\n",
       "      <td>0.962670</td>\n",
       "      <td>0.189571</td>\n",
       "      <td>0.0</td>\n",
       "      <td>1.0</td>\n",
       "      <td>1.0</td>\n",
       "      <td>1.0</td>\n",
       "      <td>1.0</td>\n",
       "    </tr>\n",
       "    <tr>\n",
       "      <th>BMI</th>\n",
       "      <td>253680.0</td>\n",
       "      <td>28.382364</td>\n",
       "      <td>6.608694</td>\n",
       "      <td>12.0</td>\n",
       "      <td>24.0</td>\n",
       "      <td>27.0</td>\n",
       "      <td>31.0</td>\n",
       "      <td>98.0</td>\n",
       "    </tr>\n",
       "    <tr>\n",
       "      <th>Smoker</th>\n",
       "      <td>253680.0</td>\n",
       "      <td>0.443169</td>\n",
       "      <td>0.496761</td>\n",
       "      <td>0.0</td>\n",
       "      <td>0.0</td>\n",
       "      <td>0.0</td>\n",
       "      <td>1.0</td>\n",
       "      <td>1.0</td>\n",
       "    </tr>\n",
       "    <tr>\n",
       "      <th>Stroke</th>\n",
       "      <td>253680.0</td>\n",
       "      <td>0.040571</td>\n",
       "      <td>0.197294</td>\n",
       "      <td>0.0</td>\n",
       "      <td>0.0</td>\n",
       "      <td>0.0</td>\n",
       "      <td>0.0</td>\n",
       "      <td>1.0</td>\n",
       "    </tr>\n",
       "    <tr>\n",
       "      <th>HeartDiseaseorAttack</th>\n",
       "      <td>253680.0</td>\n",
       "      <td>0.094186</td>\n",
       "      <td>0.292087</td>\n",
       "      <td>0.0</td>\n",
       "      <td>0.0</td>\n",
       "      <td>0.0</td>\n",
       "      <td>0.0</td>\n",
       "      <td>1.0</td>\n",
       "    </tr>\n",
       "    <tr>\n",
       "      <th>PhysActivity</th>\n",
       "      <td>253680.0</td>\n",
       "      <td>0.756544</td>\n",
       "      <td>0.429169</td>\n",
       "      <td>0.0</td>\n",
       "      <td>1.0</td>\n",
       "      <td>1.0</td>\n",
       "      <td>1.0</td>\n",
       "      <td>1.0</td>\n",
       "    </tr>\n",
       "    <tr>\n",
       "      <th>Fruits</th>\n",
       "      <td>253680.0</td>\n",
       "      <td>0.634256</td>\n",
       "      <td>0.481639</td>\n",
       "      <td>0.0</td>\n",
       "      <td>0.0</td>\n",
       "      <td>1.0</td>\n",
       "      <td>1.0</td>\n",
       "      <td>1.0</td>\n",
       "    </tr>\n",
       "    <tr>\n",
       "      <th>Veggies</th>\n",
       "      <td>253680.0</td>\n",
       "      <td>0.811420</td>\n",
       "      <td>0.391175</td>\n",
       "      <td>0.0</td>\n",
       "      <td>1.0</td>\n",
       "      <td>1.0</td>\n",
       "      <td>1.0</td>\n",
       "      <td>1.0</td>\n",
       "    </tr>\n",
       "  </tbody>\n",
       "</table>\n",
       "</div>"
      ],
      "text/plain": [
       "                         count       mean       std   min   25%   50%   75%  \\\n",
       "HighBP                253680.0   0.429001  0.494934   0.0   0.0   0.0   1.0   \n",
       "HighChol              253680.0   0.424121  0.494210   0.0   0.0   0.0   1.0   \n",
       "CholCheck             253680.0   0.962670  0.189571   0.0   1.0   1.0   1.0   \n",
       "BMI                   253680.0  28.382364  6.608694  12.0  24.0  27.0  31.0   \n",
       "Smoker                253680.0   0.443169  0.496761   0.0   0.0   0.0   1.0   \n",
       "Stroke                253680.0   0.040571  0.197294   0.0   0.0   0.0   0.0   \n",
       "HeartDiseaseorAttack  253680.0   0.094186  0.292087   0.0   0.0   0.0   0.0   \n",
       "PhysActivity          253680.0   0.756544  0.429169   0.0   1.0   1.0   1.0   \n",
       "Fruits                253680.0   0.634256  0.481639   0.0   0.0   1.0   1.0   \n",
       "Veggies               253680.0   0.811420  0.391175   0.0   1.0   1.0   1.0   \n",
       "\n",
       "                       max  \n",
       "HighBP                 1.0  \n",
       "HighChol               1.0  \n",
       "CholCheck              1.0  \n",
       "BMI                   98.0  \n",
       "Smoker                 1.0  \n",
       "Stroke                 1.0  \n",
       "HeartDiseaseorAttack   1.0  \n",
       "PhysActivity           1.0  \n",
       "Fruits                 1.0  \n",
       "Veggies                1.0  "
      ]
     },
     "metadata": {},
     "output_type": "display_data"
    },
    {
     "name": "stdout",
     "output_type": "stream",
     "text": [
      "Class imbalance -> Diabetes_binary\n",
      "0    0.860667\n",
      "1    0.139333\n",
      "Name: proportion, dtype: float64\n"
     ]
    }
   ],
   "source": [
    "display(X.describe().T.iloc[:10])  # sample of stats\n",
    "print(\"Class imbalance ->\", y.value_counts(normalize=True))\n"
   ]
  },
  {
   "cell_type": "code",
   "execution_count": 38,
   "id": "f70c9416-f397-4a70-b7ef-94a6817d7c66",
   "metadata": {},
   "outputs": [],
   "source": [
    "from sklearn.model_selection import train_test_split\n",
    "\n",
    "X_train, X_tmp, y_train, y_tmp = train_test_split(\n",
    "    X, y, test_size=0.30, stratify=y, random_state=42\n",
    ")\n",
    "X_val, X_test, y_val, y_test = train_test_split(\n",
    "    X_tmp, y_tmp, test_size=0.50, stratify=y_tmp, random_state=42\n",
    ")\n"
   ]
  },
  {
   "cell_type": "code",
   "execution_count": 39,
   "id": "c47d11e7-e2a5-442d-96fb-69109b7db805",
   "metadata": {},
   "outputs": [],
   "source": [
    "from sklearn.pipeline import Pipeline\n",
    "from sklearn.preprocessing import StandardScaler\n",
    "from sklearn.linear_model import LogisticRegression\n",
    "\n",
    "lr = Pipeline([\n",
    "    (\"scaler\", StandardScaler()),\n",
    "    (\"clf\", LogisticRegression(max_iter=2000, class_weight=\"balanced\"))\n",
    "]).fit(X_train, y_train)\n"
   ]
  },
  {
   "cell_type": "code",
   "execution_count": 40,
   "id": "13e1c548-dee0-4095-98fb-39077c4299b9",
   "metadata": {},
   "outputs": [
    {
     "name": "stderr",
     "output_type": "stream",
     "text": [
      "/Users/trisharaj/Downloads/anaconda3/lib/python3.13/site-packages/sklearn/calibration.py:333: UserWarning: The `cv='prefit'` option is deprecated in 1.6 and will be removed in 1.8. You can use CalibratedClassifierCV(FrozenEstimator(estimator)) instead.\n",
      "  warnings.warn(\n"
     ]
    }
   ],
   "source": [
    "from sklearn.calibration import CalibratedClassifierCV\n",
    "cal = CalibratedClassifierCV(lr, method=\"isotonic\", cv=\"prefit\").fit(X_val, y_val)\n"
   ]
  },
  {
   "cell_type": "code",
   "execution_count": 41,
   "id": "da894740-f092-472d-a020-4684ebb712b2",
   "metadata": {},
   "outputs": [
    {
     "name": "stdout",
     "output_type": "stream",
     "text": [
      "VAL  AUC: 0.82255843826757 PR-AUC: 0.3981118156592812\n",
      "TEST AUC: 0.8212849968757289 PR-AUC: 0.3893851227336106\n",
      "Chosen threshold: 0.22 | Test F1@t: 0.4554336188436831\n"
     ]
    }
   ],
   "source": [
    "from sklearn.metrics import roc_auc_score, average_precision_score, f1_score\n",
    "import numpy as np\n",
    "\n",
    "p_val  = cal.predict_proba(X_val)[:,1]\n",
    "p_test = cal.predict_proba(X_test)[:,1]\n",
    "\n",
    "print(\"VAL  AUC:\", roc_auc_score(y_val, p_val),  \"PR-AUC:\", average_precision_score(y_val, p_val))\n",
    "print(\"TEST AUC:\", roc_auc_score(y_test, p_test), \"PR-AUC:\", average_precision_score(y_test, p_test))\n",
    "\n",
    "ths = np.linspace(0.05, 0.95, 91)\n",
    "f1s = [f1_score(y_val, (p_val>=t).astype(int)) for t in ths]\n",
    "best_t = float(ths[int(np.argmax(f1s))])\n",
    "print(\"Chosen threshold:\", round(best_t, 3), \"| Test F1@t:\", f1_score(y_test, (p_test>=best_t).astype(int)))\n"
   ]
  },
  {
   "cell_type": "code",
   "execution_count": 42,
   "id": "365443f4-9420-4ed3-8dae-f6eae12a2985",
   "metadata": {},
   "outputs": [
    {
     "name": "stdout",
     "output_type": "stream",
     "text": [
      "[[26511  6239]\n",
      " [ 1899  3403]]\n",
      "              precision    recall  f1-score   support\n",
      "\n",
      "           0      0.933     0.809     0.867     32750\n",
      "           1      0.353     0.642     0.455      5302\n",
      "\n",
      "    accuracy                          0.786     38052\n",
      "   macro avg      0.643     0.726     0.661     38052\n",
      "weighted avg      0.852     0.786     0.810     38052\n",
      "\n"
     ]
    }
   ],
   "source": [
    "from sklearn.metrics import confusion_matrix, classification_report\n",
    "yhat_test = (p_test >= best_t).astype(int)\n",
    "print(confusion_matrix(y_test, yhat_test))\n",
    "print(classification_report(y_test, yhat_test, digits=3))\n"
   ]
  },
  {
   "cell_type": "code",
   "execution_count": 43,
   "id": "f45b70d0-d4cd-43d8-be86-33b766724449",
   "metadata": {},
   "outputs": [
    {
     "data": {
      "application/vnd.jupyter.widget-view+json": {
       "model_id": "3cb2520bc4544833983a2ff31bb4adaf",
       "version_major": 2,
       "version_minor": 0
      },
      "text/plain": [
       "interactive(children=(FloatSlider(value=0.22, description='Threshold', max=0.99, min=0.01, step=0.01), Dropdow…"
      ]
     },
     "metadata": {},
     "output_type": "display_data"
    }
   ],
   "source": [
    "import numpy as np, matplotlib.pyplot as plt\n",
    "from ipywidgets import interact, FloatSlider, Dropdown\n",
    "from sklearn.metrics import confusion_matrix, precision_score, recall_score, f1_score, roc_auc_score\n",
    "\n",
    "def plot_confmat(threshold=0.50, normalize=\"none\"):\n",
    "    \"\"\"\n",
    "    threshold: probability cutoff for positive class\n",
    "    normalize: 'none' | 'true' (row) | 'pred' (col)\n",
    "    \"\"\"\n",
    "    thr = float(threshold)\n",
    "    y_pred = (p_test >= thr).astype(int)\n",
    "\n",
    "    # normalization mode\n",
    "    norm_map = {\"none\": None, \"true\": \"true\", \"pred\": \"pred\"}\n",
    "    cm = confusion_matrix(y_test, y_pred, normalize=norm_map[normalize])\n",
    "    tn, fp, fn, tp = confusion_matrix(y_test, y_pred).ravel()\n",
    "\n",
    "    # metrics\n",
    "    prec = precision_score(y_test, y_pred, zero_division=0)\n",
    "    rec  = recall_score(y_test, y_pred, zero_division=0)\n",
    "    f1   = f1_score(y_test, y_pred, zero_division=0)\n",
    "    spec = tn / (tn + fp) if (tn + fp) else 0.0\n",
    "    auc  = roc_auc_score(y_test, p_test)\n",
    "\n",
    "    # plot\n",
    "    plt.figure(figsize=(5.5, 5))\n",
    "    plt.imshow(cm, interpolation=\"nearest\")\n",
    "    plt.title(f\"Confusion Matrix @ threshold={thr:.2f}  (normalize={normalize})\")\n",
    "    plt.xticks([0,1], [\"Pred 0 (No Diabetes)\", \"Pred 1 (Diabetes)\"], rotation=20)\n",
    "    plt.yticks([0,1], [\"True 0\", \"True 1\"])\n",
    "    # annotations\n",
    "    for i in range(2):\n",
    "        for j in range(2):\n",
    "            val = cm[i, j]\n",
    "            txt = f\"{val:.3f}\" if norm_map[normalize] else f\"{int([[tn, fp],[fn, tp]][i][j])}\"\n",
    "            plt.text(j, i, txt, ha=\"center\", va=\"center\", fontsize=12)\n",
    "    plt.xlabel(\"Predicted\")\n",
    "    plt.ylabel(\"Actual\")\n",
    "    plt.colorbar(fraction=0.046, pad=0.04)\n",
    "    plt.tight_layout()\n",
    "    plt.show()\n",
    "\n",
    "    # print metrics nicely\n",
    "    total = tn + fp + fn + tp\n",
    "    print(f\"Counts: TN={tn}  FP={fp}  FN={fn}  TP={tp}  | N={total}\")\n",
    "    print(f\"Precision={prec:.3f}  Recall={rec:.3f}  F1={f1:.3f}  Specificity={spec:.3f}  AUC={auc:.3f}\")\n",
    "\n",
    "# Default threshold = your earlier best_t if it exists; else 0.50\n",
    "default_thr = float(best_t) if \"best_t\" in globals() else 0.50\n",
    "\n",
    "interact(\n",
    "    plot_confmat,\n",
    "    threshold=FloatSlider(value=round(default_thr,2), min=0.01, max=0.99, step=0.01, description=\"Threshold\"),\n",
    "    normalize=Dropdown(options=[\"none\",\"true\",\"pred\"], value=\"none\", description=\"Normalize\")\n",
    ");\n"
   ]
  },
  {
   "cell_type": "code",
   "execution_count": 44,
   "id": "2e90ce40-f730-4f6a-a2b6-a02beb610294",
   "metadata": {},
   "outputs": [
    {
     "data": {
      "image/png": "[encoded data removed]",
      "text/plain": [
       "<Figure size 640x480 with 1 Axes>"
      ]
     },
     "metadata": {},
     "output_type": "display_data"
    },
    {
     "data": {
      "image/png": "[encoded data removed]",
      "text/plain": [
       "<Figure size 640x480 with 1 Axes>"
      ]
     },
     "metadata": {},
     "output_type": "display_data"
    }
   ],
   "source": [
    "import matplotlib.pyplot as plt\n",
    "from sklearn.metrics import precision_recall_curve, roc_curve\n",
    "\n",
    "prec, rec, _ = precision_recall_curve(y_test, p_test)\n",
    "plt.figure(); plt.step(rec, prec, where=\"post\"); plt.xlabel(\"Recall\"); plt.ylabel(\"Precision\"); plt.title(\"PR (test)\"); plt.show()\n",
    "\n",
    "fpr, tpr, _ = roc_curve(y_test, p_test)\n",
    "plt.figure(); plt.plot(fpr, tpr); plt.xlabel(\"False Positive Rate\"); plt.ylabel(\"True Positive Rate\"); plt.title(\"ROC (test)\"); plt.show()\n"
   ]
  },
  {
   "cell_type": "code",
   "execution_count": 45,
   "id": "1fa1a086-b3ef-4448-b6ba-9564ab926de5",
   "metadata": {},
   "outputs": [
    {
     "data": {
      "text/html": [
       "<div>\n",
       "<style scoped>\n",
       "    .dataframe tbody tr th:only-of-type {\n",
       "        vertical-align: middle;\n",
       "    }\n",
       "\n",
       "    .dataframe tbody tr th {\n",
       "        vertical-align: top;\n",
       "    }\n",
       "\n",
       "    .dataframe thead th {\n",
       "        text-align: right;\n",
       "    }\n",
       "</style>\n",
       "<table border=\"1\" class=\"dataframe\">\n",
       "  <thead>\n",
       "    <tr style=\"text-align: right;\">\n",
       "      <th></th>\n",
       "      <th>feature</th>\n",
       "      <th>coef</th>\n",
       "    </tr>\n",
       "  </thead>\n",
       "  <tbody>\n",
       "    <tr>\n",
       "      <th>13</th>\n",
       "      <td>GenHlth</td>\n",
       "      <td>0.610326</td>\n",
       "    </tr>\n",
       "    <tr>\n",
       "      <th>3</th>\n",
       "      <td>BMI</td>\n",
       "      <td>0.486881</td>\n",
       "    </tr>\n",
       "    <tr>\n",
       "      <th>18</th>\n",
       "      <td>Age</td>\n",
       "      <td>0.456274</td>\n",
       "    </tr>\n",
       "    <tr>\n",
       "      <th>0</th>\n",
       "      <td>HighBP</td>\n",
       "      <td>0.364505</td>\n",
       "    </tr>\n",
       "    <tr>\n",
       "      <th>1</th>\n",
       "      <td>HighChol</td>\n",
       "      <td>0.289911</td>\n",
       "    </tr>\n",
       "    <tr>\n",
       "      <th>2</th>\n",
       "      <td>CholCheck</td>\n",
       "      <td>0.245944</td>\n",
       "    </tr>\n",
       "    <tr>\n",
       "      <th>10</th>\n",
       "      <td>HvyAlcoholConsump</td>\n",
       "      <td>-0.165520</td>\n",
       "    </tr>\n",
       "    <tr>\n",
       "      <th>17</th>\n",
       "      <td>Sex</td>\n",
       "      <td>0.139271</td>\n",
       "    </tr>\n",
       "    <tr>\n",
       "      <th>20</th>\n",
       "      <td>Income</td>\n",
       "      <td>-0.119571</td>\n",
       "    </tr>\n",
       "    <tr>\n",
       "      <th>6</th>\n",
       "      <td>HeartDiseaseorAttack</td>\n",
       "      <td>0.076029</td>\n",
       "    </tr>\n",
       "    <tr>\n",
       "      <th>15</th>\n",
       "      <td>PhysHlth</td>\n",
       "      <td>-0.056509</td>\n",
       "    </tr>\n",
       "    <tr>\n",
       "      <th>19</th>\n",
       "      <td>Education</td>\n",
       "      <td>-0.040067</td>\n",
       "    </tr>\n",
       "  </tbody>\n",
       "</table>\n",
       "</div>"
      ],
      "text/plain": [
       "                 feature      coef\n",
       "13               GenHlth  0.610326\n",
       "3                    BMI  0.486881\n",
       "18                   Age  0.456274\n",
       "0                 HighBP  0.364505\n",
       "1               HighChol  0.289911\n",
       "2              CholCheck  0.245944\n",
       "10     HvyAlcoholConsump -0.165520\n",
       "17                   Sex  0.139271\n",
       "20                Income -0.119571\n",
       "6   HeartDiseaseorAttack  0.076029\n",
       "15              PhysHlth -0.056509\n",
       "19             Education -0.040067"
      ]
     },
     "execution_count": 45,
     "metadata": {},
     "output_type": "execute_result"
    }
   ],
   "source": [
    "import pandas as pd\n",
    "coef = lr.named_steps[\"clf\"].coef_[0]\n",
    "pd.DataFrame({\"feature\": X.columns, \"coef\": coef, \"abs\": abs(coef)}).sort_values(\"abs\", ascending=False).drop(columns=\"abs\").head(12)\n"
   ]
  },
  {
   "cell_type": "code",
   "execution_count": 46,
   "id": "850a981c-0a3f-4999-b39f-fdc573d75f07",
   "metadata": {},
   "outputs": [
    {
     "data": {
      "text/plain": [
       "(38052,\n",
       "         HighBP  HighChol  CholCheck   BMI  Smoker  Stroke  \\\n",
       " 15722      1.0       1.0        1.0  26.0     0.0     0.0   \n",
       " 138437     1.0       0.0        1.0  25.0     1.0     0.0   \n",
       " 95133      0.0       0.0        1.0  29.0     1.0     0.0   \n",
       " 222726     1.0       0.0        1.0  32.0     1.0     0.0   \n",
       " 36020      0.0       0.0        1.0  32.0     0.0     0.0   \n",
       " \n",
       "         HeartDiseaseorAttack  PhysActivity  Fruits  Veggies  ...  MentHlth  \\\n",
       " 15722                    0.0           1.0     1.0      1.0  ...      30.0   \n",
       " 138437                   0.0           1.0     0.0      1.0  ...       0.0   \n",
       " 95133                    0.0           0.0     1.0      0.0  ...       0.0   \n",
       " 222726                   0.0           1.0     1.0      1.0  ...       0.0   \n",
       " 36020                    0.0           1.0     1.0      1.0  ...       0.0   \n",
       " \n",
       "         PhysHlth  DiffWalk  Sex   Age  Education  Income  y_true  pred_prob  \\\n",
       " 15722        0.0       1.0  0.0   8.0        6.0     5.0       1   0.155501   \n",
       " 138437       0.0       0.0  0.0   8.0        5.0     6.0       0   0.039052   \n",
       " 95133       30.0       1.0  1.0  11.0        6.0     8.0       0   0.263830   \n",
       " 222726       0.0       0.0  0.0   7.0        5.0     2.0       0   0.155501   \n",
       " 36020        0.0       0.0  0.0   7.0        6.0     6.0       0   0.073337   \n",
       " \n",
       "         pred_label  \n",
       " 15722            0  \n",
       " 138437           0  \n",
       " 95133            1  \n",
       " 222726           0  \n",
       " 36020            0  \n",
       " \n",
       " [5 rows x 24 columns])"
      ]
     },
     "execution_count": 46,
     "metadata": {},
     "output_type": "execute_result"
    }
   ],
   "source": [
    "test_out = X_test.copy()\n",
    "test_out[\"y_true\"] = y_test.values\n",
    "test_out[\"pred_prob\"] = p_test\n",
    "test_out[\"pred_label\"] = (p_test >= best_t).astype(int)\n",
    "test_out.to_csv(\"test_predictions.csv\", index=False)\n",
    "len(test_out), test_out.head()\n"
   ]
  },
  {
   "cell_type": "code",
   "execution_count": 47,
   "id": "56eaeabc-63ad-46e6-8b49-f7079a741472",
   "metadata": {},
   "outputs": [
    {
     "name": "stderr",
     "output_type": "stream",
     "text": [
      "/Users/trisharaj/Downloads/anaconda3/lib/python3.13/site-packages/sklearn/calibration.py:333: UserWarning: The `cv='prefit'` option is deprecated in 1.6 and will be removed in 1.8. You can use CalibratedClassifierCV(FrozenEstimator(estimator)) instead.\n",
      "  warnings.warn(\n"
     ]
    },
    {
     "data": {
      "text/plain": [
       "['model_diabetes_brfss.pkl']"
      ]
     },
     "execution_count": 47,
     "metadata": {},
     "output_type": "execute_result"
    }
   ],
   "source": [
    "FEATURES_MIN = [\"BMI\",\"HighBP\",\"HighChol\",\"PhysActivity\",\"GenHlth\",\"Age\",\"Sex\"]\n",
    "Xm = df[FEATURES_MIN].apply(pd.to_numeric, errors=\"coerce\")\n",
    "mask = Xm.notna().all(axis=1) & y.notna()\n",
    "Xm, ym = Xm[mask], y[mask].astype(int)\n",
    "\n",
    "from sklearn.model_selection import train_test_split\n",
    "Xtr, Xtmp, ytr, ytmp = train_test_split(Xm, ym, test_size=0.30, stratify=ym, random_state=42)\n",
    "Xv, Xte, yv, yte = train_test_split(Xtmp, ytmp, test_size=0.50, stratify=ytmp, random_state=42)\n",
    "\n",
    "from sklearn.pipeline import Pipeline\n",
    "from sklearn.preprocessing import StandardScaler\n",
    "from sklearn.linear_model import LogisticRegression\n",
    "from sklearn.calibration import CalibratedClassifierCV\n",
    "from sklearn.metrics import f1_score\n",
    "lr_m = Pipeline([(\"sc\", StandardScaler()), (\"clf\", LogisticRegression(max_iter=2000, class_weight=\"balanced\"))]).fit(Xtr, ytr)\n",
    "cal_m = CalibratedClassifierCV(lr_m, method=\"isotonic\", cv=\"prefit\").fit(Xv, yv)\n",
    "\n",
    "import numpy as np\n",
    "p_v = cal_m.predict_proba(Xv)[:,1]; p_te = cal_m.predict_proba(Xte)[:,1]\n",
    "ths = np.linspace(0.05, 0.95, 91); best_t_m = float(ths[np.argmax([f1_score(yv,(p_v>=t).astype(int)) for t in ths])])\n",
    "\n",
    "# save a minimal bundle (no defaults needed now)\n",
    "import joblib\n",
    "joblib.dump({\"model\": cal_m, \"features\": FEATURES_MIN, \"threshold\": best_t_m}, \"model_diabetes_brfss.pkl\")\n"
   ]
  },
  {
   "cell_type": "code",
   "execution_count": 48,
   "id": "36b04e51-5a9d-4e42-a5ef-686ac2e5b87d",
   "metadata": {},
   "outputs": [
    {
     "data": {
      "text/plain": [
       "(253680,\n",
       "    Diabetes_binary  HighBP  HighChol  CholCheck   BMI  Smoker  Stroke  \\\n",
       " 0              0.0     1.0       1.0        1.0  40.0     1.0     0.0   \n",
       " 1              0.0     0.0       0.0        0.0  25.0     1.0     0.0   \n",
       " 2              0.0     1.0       1.0        1.0  28.0     0.0     0.0   \n",
       " 3              0.0     1.0       0.0        1.0  27.0     0.0     0.0   \n",
       " 4              0.0     1.0       1.0        1.0  24.0     0.0     0.0   \n",
       " \n",
       "    HeartDiseaseorAttack  PhysActivity  Fruits  ...  GenHlth  MentHlth  \\\n",
       " 0                   0.0           0.0     0.0  ...      5.0      18.0   \n",
       " 1                   0.0           1.0     0.0  ...      3.0       0.0   \n",
       " 2                   0.0           0.0     1.0  ...      5.0      30.0   \n",
       " 3                   0.0           1.0     1.0  ...      2.0       0.0   \n",
       " 4                   0.0           1.0     1.0  ...      2.0       3.0   \n",
       " \n",
       "    PhysHlth  DiffWalk  Sex   Age  Education  Income  pred_prob  pred_label  \n",
       " 0      15.0       1.0  0.0   9.0        4.0     3.0   0.545455           1  \n",
       " 1       0.0       0.0  0.0   7.0        6.0     1.0   0.029040           0  \n",
       " 2      30.0       1.0  0.0   9.0        4.0     8.0   0.454746           1  \n",
       " 3       0.0       0.0  0.0  11.0        3.0     6.0   0.098674           0  \n",
       " 4       0.0       0.0  0.0  11.0        5.0     4.0   0.146969           0  \n",
       " \n",
       " [5 rows x 24 columns])"
      ]
     },
     "execution_count": 48,
     "metadata": {},
     "output_type": "execute_result"
    }
   ],
   "source": [
    "import pandas as pd, joblib\n",
    "b = joblib.load(\"model_diabetes_brfss.pkl\")\n",
    "new = pd.read_csv(\"diabetes_binary_health_indicators_BRFSS2015.csv\")  # or another file with same columns\n",
    "probs = b[\"model\"].predict_proba(new[b[\"features\"]])[:,1]\n",
    "preds = (probs >= b[\"threshold\"]).astype(int)\n",
    "out = new.copy()\n",
    "out[\"pred_prob\"] = probs; out[\"pred_label\"] = preds\n",
    "out.to_csv(\"predictions.csv\", index=False)\n",
    "len(out), out.head()\n"
   ]
  },
  {
   "cell_type": "code",
   "execution_count": 49,
   "id": "17a06ce2-ac69-46b4-9f82-a9f27a26b310",
   "metadata": {},
   "outputs": [
    {
     "name": "stderr",
     "output_type": "stream",
     "text": [
      "/Users/trisharaj/Downloads/anaconda3/lib/python3.13/site-packages/sklearn/calibration.py:333: UserWarning: The `cv='prefit'` option is deprecated in 1.6 and will be removed in 1.8. You can use CalibratedClassifierCV(FrozenEstimator(estimator)) instead.\n",
      "  warnings.warn(\n"
     ]
    },
    {
     "name": "stdout",
     "output_type": "stream",
     "text": [
      "RF TEST AUC: 0.8162671698134939 PR-AUC: 0.38990920823068437\n"
     ]
    }
   ],
   "source": [
    "from sklearn.ensemble import RandomForestClassifier\n",
    "rf = RandomForestClassifier(\n",
    "    n_estimators=400, class_weight=\"balanced_subsample\",\n",
    "    min_samples_split=4, min_samples_leaf=2, n_jobs=-1, random_state=42\n",
    ").fit(X_train, y_train)\n",
    "\n",
    "cal_rf = CalibratedClassifierCV(rf, method=\"isotonic\", cv=\"prefit\").fit(X_val, y_val)\n",
    "p_test_rf = cal_rf.predict_proba(X_test)[:,1]\n",
    "print(\"RF TEST AUC:\", roc_auc_score(y_test, p_test_rf), \"PR-AUC:\", average_precision_score(y_test, p_test_rf))\n"
   ]
  },
  {
   "cell_type": "code",
   "execution_count": 50,
   "id": "9f5e923f-4b56-460c-93da-f2393f1349af",
   "metadata": {},
   "outputs": [
    {
     "data": {
      "text/plain": [
       "{'lr': {'roc': np.float64(0.8212849968757289),\n",
       "  'pr': np.float64(0.3893851227336106)},\n",
       " 'rf': {'roc': np.float64(0.8162671698134939),\n",
       "  'pr': np.float64(0.38990920823068437)}}"
      ]
     },
     "execution_count": 50,
     "metadata": {},
     "output_type": "execute_result"
    }
   ],
   "source": [
    "from sklearn.metrics import roc_auc_score, average_precision_score\n",
    "\n",
    "scores = {\n",
    "    \"lr\":  {\"roc\": roc_auc_score(y_test, p_test),\n",
    "            \"pr\":  average_precision_score(y_test, p_test)},\n",
    "    \"rf\":  {\"roc\": roc_auc_score(y_test, p_test_rf),\n",
    "            \"pr\":  average_precision_score(y_test, p_test_rf)},\n",
    "}\n",
    "scores\n"
   ]
  },
  {
   "cell_type": "code",
   "execution_count": 51,
   "id": "275f287e-6706-4559-9f41-3cd3533b1e6c",
   "metadata": {},
   "outputs": [
    {
     "name": "stdout",
     "output_type": "stream",
     "text": [
      "Saved model_diabetes_brfss.pkl with threshold 0.21999999999999997\n"
     ]
    }
   ],
   "source": [
    "import joblib\n",
    "\n",
    "WINNER = \"lr\"   \n",
    "model = cal if WINNER==\"lr\" else cal_rf\n",
    "threshold = float(best_t) if WINNER==\"lr\" else float(best_t_rf)\n",
    "\n",
    "bundle = {\"model\": model, \"features\": X.columns.tolist(), \"threshold\": threshold}\n",
    "joblib.dump(bundle, \"model_diabetes_brfss.pkl\")\n",
    "print(\"Saved model_diabetes_brfss.pkl with threshold\", threshold)\n"
   ]
  },
  {
   "cell_type": "code",
   "execution_count": 52,
   "id": "f1928033-ecfc-4463-a538-2184b496a753",
   "metadata": {},
   "outputs": [],
   "source": [
    "import pandas as pd, joblib\n",
    "\n",
    "def score_csv(input_csv, model_pkl=\"model_diabetes_brfss.pkl\", output_csv=\"predictions.csv\"):\n",
    "    b = joblib.load(model_pkl)\n",
    "    feats, thr = b[\"features\"], b[\"threshold\"]\n",
    "    m = b[\"model\"]\n",
    "\n",
    "    df = pd.read_csv(input_csv)\n",
    "    missing = [c for c in feats if c not in df.columns]\n",
    "    if missing:\n",
    "        raise ValueError(f\"Missing columns: {missing}\")\n",
    "\n",
    "    probs = m.predict_proba(df[feats])[:,1]\n",
    "    preds = (probs >= thr).astype(int)\n",
    "    out = df.copy()\n",
    "    out[\"pred_prob\"] = probs\n",
    "    out[\"pred_label\"] = preds\n",
    "    out.to_csv(output_csv, index=False)\n",
    "    return out.head()\n",
    "\n",
    "# example:\n",
    "# score_csv(\"diabetes_binary_health_indicators_BRFSS2015.csv\", output_csv=\"predictions.csv\")\n"
   ]
  },
  {
   "cell_type": "code",
   "execution_count": 53,
   "id": "36ddca70-5011-4582-9527-0ad35ac003bc",
   "metadata": {},
   "outputs": [
    {
     "name": "stdout",
     "output_type": "stream",
     "text": [
      "Requirement already satisfied: streamlit in /Users/trisharaj/Downloads/anaconda3/lib/python3.13/site-packages (1.45.1)\n",
      "Requirement already satisfied: altair<6,>=4.0 in /Users/trisharaj/Downloads/anaconda3/lib/python3.13/site-packages (from streamlit) (5.5.0)\n",
      "Requirement already satisfied: blinker<2,>=1.5.0 in /Users/trisharaj/Downloads/anaconda3/lib/python3.13/site-packages (from streamlit) (1.9.0)\n",
      "Requirement already satisfied: cachetools<6,>=4.0 in /Users/trisharaj/Downloads/anaconda3/lib/python3.13/site-packages (from streamlit) (5.5.1)\n",
      "Requirement already satisfied: click<9,>=7.0 in /Users/trisharaj/Downloads/anaconda3/lib/python3.13/site-packages (from streamlit) (8.1.8)\n",
      "Requirement already satisfied: numpy<3,>=1.23 in /Users/trisharaj/Downloads/anaconda3/lib/python3.13/site-packages (from streamlit) (2.1.3)\n",
      "Requirement already satisfied: packaging<25,>=20 in /Users/trisharaj/Downloads/anaconda3/lib/python3.13/site-packages (from streamlit) (24.2)\n",
      "Requirement already satisfied: pandas<3,>=1.4.0 in /Users/trisharaj/Downloads/anaconda3/lib/python3.13/site-packages (from streamlit) (2.2.3)\n",
      "Requirement already satisfied: pillow<12,>=7.1.0 in /Users/trisharaj/Downloads/anaconda3/lib/python3.13/site-packages (from streamlit) (11.1.0)\n",
      "Requirement already satisfied: protobuf<7,>=3.20 in /Users/trisharaj/Downloads/anaconda3/lib/python3.13/site-packages (from streamlit) (5.29.3)\n",
      "Requirement already satisfied: pyarrow>=7.0 in /Users/trisharaj/Downloads/anaconda3/lib/python3.13/site-packages (from streamlit) (19.0.0)\n",
      "Requirement already satisfied: requests<3,>=2.27 in /Users/trisharaj/Downloads/anaconda3/lib/python3.13/site-packages (from streamlit) (2.32.3)\n",
      "Requirement already satisfied: tenacity<10,>=8.1.0 in /Users/trisharaj/Downloads/anaconda3/lib/python3.13/site-packages (from streamlit) (9.0.0)\n",
      "Requirement already satisfied: toml<2,>=0.10.1 in /Users/trisharaj/Downloads/anaconda3/lib/python3.13/site-packages (from streamlit) (0.10.2)\n",
      "Requirement already satisfied: typing-extensions<5,>=4.4.0 in /Users/trisharaj/Downloads/anaconda3/lib/python3.13/site-packages (from streamlit) (4.12.2)\n",
      "Requirement already satisfied: gitpython!=3.1.19,<4,>=3.0.7 in /Users/trisharaj/Downloads/anaconda3/lib/python3.13/site-packages (from streamlit) (3.1.43)\n",
      "Requirement already satisfied: tornado<7,>=6.0.3 in /Users/trisharaj/Downloads/anaconda3/lib/python3.13/site-packages (from streamlit) (6.5.1)\n",
      "Requirement already satisfied: jinja2 in /Users/trisharaj/Downloads/anaconda3/lib/python3.13/site-packages (from altair<6,>=4.0->streamlit) (3.1.6)\n",
      "Requirement already satisfied: jsonschema>=3.0 in /Users/trisharaj/Downloads/anaconda3/lib/python3.13/site-packages (from altair<6,>=4.0->streamlit) (4.23.0)\n",
      "Requirement already satisfied: narwhals>=1.14.2 in /Users/trisharaj/Downloads/anaconda3/lib/python3.13/site-packages (from altair<6,>=4.0->streamlit) (1.31.0)\n",
      "Requirement already satisfied: gitdb<5,>=4.0.1 in /Users/trisharaj/Downloads/anaconda3/lib/python3.13/site-packages (from gitpython!=3.1.19,<4,>=3.0.7->streamlit) (4.0.7)\n",
      "Requirement already satisfied: smmap<5,>=3.0.1 in /Users/trisharaj/Downloads/anaconda3/lib/python3.13/site-packages (from gitdb<5,>=4.0.1->gitpython!=3.1.19,<4,>=3.0.7->streamlit) (4.0.0)\n",
      "Requirement already satisfied: python-dateutil>=2.8.2 in /Users/trisharaj/Downloads/anaconda3/lib/python3.13/site-packages (from pandas<3,>=1.4.0->streamlit) (2.9.0.post0)\n",
      "Requirement already satisfied: pytz>=2020.1 in /Users/trisharaj/Downloads/anaconda3/lib/python3.13/site-packages (from pandas<3,>=1.4.0->streamlit) (2024.1)\n",
      "Requirement already satisfied: tzdata>=2022.7 in /Users/trisharaj/Downloads/anaconda3/lib/python3.13/site-packages (from pandas<3,>=1.4.0->streamlit) (2025.2)\n",
      "Requirement already satisfied: charset-normalizer<4,>=2 in /Users/trisharaj/Downloads/anaconda3/lib/python3.13/site-packages (from requests<3,>=2.27->streamlit) (3.3.2)\n",
      "Requirement already satisfied: idna<4,>=2.5 in /Users/trisharaj/Downloads/anaconda3/lib/python3.13/site-packages (from requests<3,>=2.27->streamlit) (3.7)\n",
      "Requirement already satisfied: urllib3<3,>=1.21.1 in /Users/trisharaj/Downloads/anaconda3/lib/python3.13/site-packages (from requests<3,>=2.27->streamlit) (2.3.0)\n",
      "Requirement already satisfied: certifi>=2017.4.17 in /Users/trisharaj/Downloads/anaconda3/lib/python3.13/site-packages (from requests<3,>=2.27->streamlit) (2025.7.14)\n",
      "Requirement already satisfied: attrs>=22.2.0 in /Users/trisharaj/Downloads/anaconda3/lib/python3.13/site-packages (from jsonschema>=3.0->altair<6,>=4.0->streamlit) (24.3.0)\n",
      "Requirement already satisfied: jsonschema-specifications>=2023.03.6 in /Users/trisharaj/Downloads/anaconda3/lib/python3.13/site-packages (from jsonschema>=3.0->altair<6,>=4.0->streamlit) (2023.7.1)\n",
      "Requirement already satisfied: referencing>=0.28.4 in /Users/trisharaj/Downloads/anaconda3/lib/python3.13/site-packages (from jsonschema>=3.0->altair<6,>=4.0->streamlit) (0.30.2)\n",
      "Requirement already satisfied: rpds-py>=0.7.1 in /Users/trisharaj/Downloads/anaconda3/lib/python3.13/site-packages (from jsonschema>=3.0->altair<6,>=4.0->streamlit) (0.22.3)\n",
      "Requirement already satisfied: six>=1.5 in /Users/trisharaj/Downloads/anaconda3/lib/python3.13/site-packages (from python-dateutil>=2.8.2->pandas<3,>=1.4.0->streamlit) (1.17.0)\n",
      "Requirement already satisfied: MarkupSafe>=2.0 in /Users/trisharaj/Downloads/anaconda3/lib/python3.13/site-packages (from jinja2->altair<6,>=4.0->streamlit) (3.0.2)\n",
      "Note: you may need to restart the kernel to use updated packages.\n"
     ]
    }
   ],
   "source": [
    "%pip install streamlit\n"
   ]
  },
  {
   "cell_type": "code",
   "execution_count": 54,
   "id": "97d4ce2f-046f-4028-a648-f5da20a36029",
   "metadata": {},
   "outputs": [
    {
     "name": "stderr",
     "output_type": "stream",
     "text": [
      "/Users/trisharaj/Downloads/anaconda3/lib/python3.13/site-packages/sklearn/calibration.py:333: UserWarning: The `cv='prefit'` option is deprecated in 1.6 and will be removed in 1.8. You can use CalibratedClassifierCV(FrozenEstimator(estimator)) instead.\n",
      "  warnings.warn(\n"
     ]
    },
    {
     "name": "stdout",
     "output_type": "stream",
     "text": [
      "TEST AUC: 0.8156736274083524 PR-AUC: 0.3807336139078632 F1@t: 0.4466991341991342\n"
     ]
    },
    {
     "data": {
      "text/plain": [
       "0.22999999999999998"
      ]
     },
     "execution_count": 54,
     "metadata": {},
     "output_type": "execute_result"
    }
   ],
   "source": [
    "# --- load data (if df isn't already in memory) ---\n",
    "import pandas as pd, numpy as np\n",
    "df = pd.read_csv(\"diabetes_binary_health_indicators_BRFSS2015.csv\")  # adjust name if needed\n",
    "\n",
    "# --- target ---\n",
    "y = df[\"Diabetes_binary\"].astype(int)  # since this file has Diabetes_binary\n",
    "\n",
    "# --- minimal feature set (7) ---\n",
    "FEATURES_MIN = [\"BMI\",\"HighBP\",\"HighChol\",\"PhysActivity\",\"GenHlth\",\"Age\",\"Sex\"]\n",
    "\n",
    "X = df[FEATURES_MIN].apply(pd.to_numeric, errors=\"coerce\")\n",
    "mask = X.notna().all(axis=1) & y.notna()\n",
    "X, y = X[mask], y[mask].astype(int)\n",
    "\n",
    "# --- split ---\n",
    "from sklearn.model_selection import train_test_split\n",
    "Xtr, Xtmp, ytr, ytmp = train_test_split(X, y, test_size=0.30, stratify=y, random_state=42)\n",
    "Xv, Xte, yv, yte     = train_test_split(Xtmp, ytmp, test_size=0.50, stratify=ytmp, random_state=42)\n",
    "\n",
    "# --- model: LR + scaling + class_weight; then calibrate ---\n",
    "from sklearn.pipeline import Pipeline\n",
    "from sklearn.preprocessing import StandardScaler\n",
    "from sklearn.linear_model import LogisticRegression\n",
    "from sklearn.calibration import CalibratedClassifierCV\n",
    "\n",
    "lr = Pipeline([(\"sc\", StandardScaler()),\n",
    "               (\"clf\", LogisticRegression(max_iter=2000, class_weight=\"balanced\"))]).fit(Xtr, ytr)\n",
    "cal = CalibratedClassifierCV(lr, method=\"isotonic\", cv=\"prefit\").fit(Xv, yv)\n",
    "\n",
    "# --- choose threshold by val F1 ---\n",
    "from sklearn.metrics import f1_score, roc_auc_score, average_precision_score\n",
    "import numpy as np\n",
    "p_v  = cal.predict_proba(Xv)[:,1]\n",
    "p_te = cal.predict_proba(Xte)[:,1]\n",
    "\n",
    "ths = np.linspace(0.05, 0.95, 91)\n",
    "best_t = float(ths[np.argmax([f1_score(yv, (p_v>=t).astype(int)) for t in ths])])\n",
    "\n",
    "print(\"TEST AUC:\", roc_auc_score(yte, p_te), \"PR-AUC:\", average_precision_score(yte, p_te), \"F1@t:\", f1_score(yte,(p_te>=best_t).astype(int)))\n",
    "best_t\n"
   ]
  },
  {
   "cell_type": "code",
   "execution_count": 55,
   "id": "e5aa58f9-ec8c-4b0f-843a-bb073eef5795",
   "metadata": {},
   "outputs": [
    {
     "data": {
      "text/plain": [
       "PosixPath('/Users/trisharaj/Downloads/Diabetes risk prediction/model_diabetes_brfss.pkl')"
      ]
     },
     "execution_count": 55,
     "metadata": {},
     "output_type": "execute_result"
    }
   ],
   "source": [
    "import joblib, pathlib, json\n",
    "bundle = {\"model\": cal, \"features\": FEATURES_MIN, \"threshold\": best_t}\n",
    "joblib.dump(bundle, \"model_diabetes_brfss.pkl\")\n",
    "pathlib.Path(\"model_diabetes_brfss.pkl\").resolve()\n"
   ]
  },
  {
   "cell_type": "code",
   "execution_count": 56,
   "id": "7f22739c-6989-4629-b5d4-7eb9f385ef46",
   "metadata": {},
   "outputs": [
    {
     "name": "stdout",
     "output_type": "stream",
     "text": [
      "/Users/trisharaj/Downloads/anaconda3/bin/python\n",
      "sklearn: 1.6.1 joblib: 1.4.2\n"
     ]
    }
   ],
   "source": [
    "import sys, sklearn, joblib\n",
    "print(sys.executable)\n",
    "print(\"sklearn:\", sklearn.__version__, \"joblib:\", joblib.__version__)\n"
   ]
  },
  {
   "cell_type": "code",
   "execution_count": null,
   "id": "ded26a52-29f6-4b51-a4d0-bb638ba15876",
   "metadata": {},
   "outputs": [],
   "source": []
  }
 ],
 "metadata": {
  "kernelspec": {
   "display_name": "Python [conda env:base] *",
   "language": "python",
   "name": "conda-base-py"
  },
  "language_info": {
   "codemirror_mode": {
    "name": "ipython",
    "version": 3
   },
   "file_extension": ".py",
   "mimetype": "text/x-python",
   "name": "python",
   "nbconvert_exporter": "python",
   "pygments_lexer": "ipython3",
   "version": "3.13.5"
  }
 },
 "nbformat": 4,
 "nbformat_minor": 5
}
